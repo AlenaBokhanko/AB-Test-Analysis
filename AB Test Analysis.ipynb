{
 "cells": [
  {
   "cell_type": "markdown",
   "id": "c93e5ed1-9cff-471c-97b1-b5166be2e149",
   "metadata": {},
   "source": [
    "# 📊 Анализ A/B-теста: подготовка, исследование и проверка гипотез\n",
    "\n",
    "В данном проекте будут произведены предобработка и анализ данных A/B-теста, включая проверку влияния тестируемого изменения на ключевые метрики: время в игре (gametime) и доход (revenue).\n",
    "Мы сравним показатели тестовой и контрольной групп и определим, являются ли выявленные различия значимыми с точки зрения статистики."
   ]
  },
  {
   "cell_type": "markdown",
   "id": "4a32e117-f26a-46c5-87c8-5435a86b3e67",
   "metadata": {},
   "source": [
    "### Входные данные\n",
    "Данные для анализа - **test_dataset.csv**\n",
    "\n",
    "Где:\n",
    "\n",
    "**- Group** – группа (Control или Test)\n",
    "\n",
    "**- user_id** – идентификатор пользователя\n",
    "\n",
    "**- timestamp** – дата события\n",
    "\n",
    "**- regdate** – дата регистрации\n",
    "\n",
    "**- traffic_type** – тип трафика (Paid или Organic)\n",
    "\n",
    "**- gametime** – игровое время \n",
    "\n",
    "**- revenue** – доход"
   ]
  },
  {
   "cell_type": "markdown",
   "id": "8046f0e0-c09a-4833-8003-a22a288989e5",
   "metadata": {},
   "source": [
    "## 1️⃣ Импорт библиотек"
   ]
  },
  {
   "cell_type": "code",
   "execution_count": 222,
   "id": "3624bc9c-5bf8-4201-a3fa-5111caf13493",
   "metadata": {},
   "outputs": [],
   "source": [
    "import pandas as pd\n",
    "import numpy as np\n",
    "import matplotlib.pyplot as plt\n",
    "import seaborn as sns\n",
    "from scipy import stats"
   ]
  },
  {
   "cell_type": "markdown",
   "id": "a9028f5b-8e96-4b83-9603-f42ab7b0ff05",
   "metadata": {},
   "source": [
    "## 2️⃣ Загрузка и предварительное исследование данных"
   ]
  },
  {
   "cell_type": "markdown",
   "id": "f76d6058-82f4-4309-b0cc-8461559bea8a",
   "metadata": {},
   "source": [
    "Загружаем датасет, сразу же преобразовав столбцы с датами в формат datetime и изучаем его структуру:"
   ]
  },
  {
   "cell_type": "code",
   "execution_count": 226,
   "id": "91c614ff-ebf5-49d5-8353-89ca3f38435a",
   "metadata": {},
   "outputs": [],
   "source": [
    "df = pd.read_csv(\"/Users/Alena/Desktop/test_dataset.csv\", encoding='utf-8', sep=';', parse_dates = ['timestamp', 'regdate'], dayfirst = True)"
   ]
  },
  {
   "cell_type": "code",
   "execution_count": 227,
   "id": "5a9b2254-b318-44b8-b0ba-9560761d808f",
   "metadata": {},
   "outputs": [
    {
     "data": {
      "text/html": [
       "<div>\n",
       "<style scoped>\n",
       "    .dataframe tbody tr th:only-of-type {\n",
       "        vertical-align: middle;\n",
       "    }\n",
       "\n",
       "    .dataframe tbody tr th {\n",
       "        vertical-align: top;\n",
       "    }\n",
       "\n",
       "    .dataframe thead th {\n",
       "        text-align: right;\n",
       "    }\n",
       "</style>\n",
       "<table border=\"1\" class=\"dataframe\">\n",
       "  <thead>\n",
       "    <tr style=\"text-align: right;\">\n",
       "      <th></th>\n",
       "      <th>Group</th>\n",
       "      <th>user_id</th>\n",
       "      <th>timestamp</th>\n",
       "      <th>regdate</th>\n",
       "      <th>traffic_type</th>\n",
       "      <th>gametime</th>\n",
       "      <th>revenue</th>\n",
       "    </tr>\n",
       "  </thead>\n",
       "  <tbody>\n",
       "    <tr>\n",
       "      <th>0</th>\n",
       "      <td>Control</td>\n",
       "      <td>4e6550edc89y13d2014faf599444812c92df6924</td>\n",
       "      <td>2021-04-01</td>\n",
       "      <td>2021-02-24</td>\n",
       "      <td>Paid</td>\n",
       "      <td>215886.0</td>\n",
       "      <td>0.0</td>\n",
       "    </tr>\n",
       "    <tr>\n",
       "      <th>1</th>\n",
       "      <td>Test</td>\n",
       "      <td>1e28f7e4y158dc8323ecfae71d14acf2ce92821c</td>\n",
       "      <td>2021-04-01</td>\n",
       "      <td>2019-09-08</td>\n",
       "      <td>Organic</td>\n",
       "      <td>1699057.0</td>\n",
       "      <td>0.0</td>\n",
       "    </tr>\n",
       "    <tr>\n",
       "      <th>2</th>\n",
       "      <td>Control</td>\n",
       "      <td>ey003daf052a6c1d6a34854d4e63afc763601a6a</td>\n",
       "      <td>2021-03-27</td>\n",
       "      <td>2020-01-07</td>\n",
       "      <td>Organic</td>\n",
       "      <td>360667.0</td>\n",
       "      <td>0.0</td>\n",
       "    </tr>\n",
       "    <tr>\n",
       "      <th>3</th>\n",
       "      <td>Control</td>\n",
       "      <td>f903436f2y7cey67e89d009c4892154034ay1d3y</td>\n",
       "      <td>2021-03-25</td>\n",
       "      <td>2021-02-08</td>\n",
       "      <td>Paid</td>\n",
       "      <td>159227.0</td>\n",
       "      <td>0.0</td>\n",
       "    </tr>\n",
       "    <tr>\n",
       "      <th>4</th>\n",
       "      <td>Control</td>\n",
       "      <td>347f873ca5ea26dea2347232c1282097d12dc4c0</td>\n",
       "      <td>2021-03-20</td>\n",
       "      <td>2020-10-28</td>\n",
       "      <td>Paid</td>\n",
       "      <td>846950.0</td>\n",
       "      <td>0.0</td>\n",
       "    </tr>\n",
       "    <tr>\n",
       "      <th>5</th>\n",
       "      <td>Test</td>\n",
       "      <td>y613281fcda861y8c9e1a8a9d732d5ecae8dd15y</td>\n",
       "      <td>2021-03-31</td>\n",
       "      <td>2020-03-20</td>\n",
       "      <td>Organic</td>\n",
       "      <td>292904.0</td>\n",
       "      <td>0.0</td>\n",
       "    </tr>\n",
       "    <tr>\n",
       "      <th>6</th>\n",
       "      <td>Test</td>\n",
       "      <td>7685a40yday17e2fd02a6a1fad642596y6805121</td>\n",
       "      <td>2021-03-31</td>\n",
       "      <td>2021-03-24</td>\n",
       "      <td>Paid</td>\n",
       "      <td>30892.0</td>\n",
       "      <td>0.0</td>\n",
       "    </tr>\n",
       "    <tr>\n",
       "      <th>7</th>\n",
       "      <td>Control</td>\n",
       "      <td>y73y1e931a3769c583ca937dd66c4aef4d6e31cd</td>\n",
       "      <td>2021-03-19</td>\n",
       "      <td>2020-12-28</td>\n",
       "      <td>Paid</td>\n",
       "      <td>100394.0</td>\n",
       "      <td>0.0</td>\n",
       "    </tr>\n",
       "    <tr>\n",
       "      <th>8</th>\n",
       "      <td>Control</td>\n",
       "      <td>7f70yedd1y1721yf437e6cdydae522c2ead698f8</td>\n",
       "      <td>2021-03-24</td>\n",
       "      <td>2020-04-01</td>\n",
       "      <td>Paid</td>\n",
       "      <td>402302.0</td>\n",
       "      <td>0.0</td>\n",
       "    </tr>\n",
       "    <tr>\n",
       "      <th>9</th>\n",
       "      <td>Control</td>\n",
       "      <td>262d77645124de79960ca588c8y6fa0f762422a3</td>\n",
       "      <td>2021-04-08</td>\n",
       "      <td>2021-03-22</td>\n",
       "      <td>Organic</td>\n",
       "      <td>18568.0</td>\n",
       "      <td>0.0</td>\n",
       "    </tr>\n",
       "  </tbody>\n",
       "</table>\n",
       "</div>"
      ],
      "text/plain": [
       "     Group                                   user_id  timestamp    regdate  \\\n",
       "0  Control  4e6550edc89y13d2014faf599444812c92df6924 2021-04-01 2021-02-24   \n",
       "1     Test  1e28f7e4y158dc8323ecfae71d14acf2ce92821c 2021-04-01 2019-09-08   \n",
       "2  Control  ey003daf052a6c1d6a34854d4e63afc763601a6a 2021-03-27 2020-01-07   \n",
       "3  Control  f903436f2y7cey67e89d009c4892154034ay1d3y 2021-03-25 2021-02-08   \n",
       "4  Control  347f873ca5ea26dea2347232c1282097d12dc4c0 2021-03-20 2020-10-28   \n",
       "5     Test  y613281fcda861y8c9e1a8a9d732d5ecae8dd15y 2021-03-31 2020-03-20   \n",
       "6     Test  7685a40yday17e2fd02a6a1fad642596y6805121 2021-03-31 2021-03-24   \n",
       "7  Control  y73y1e931a3769c583ca937dd66c4aef4d6e31cd 2021-03-19 2020-12-28   \n",
       "8  Control  7f70yedd1y1721yf437e6cdydae522c2ead698f8 2021-03-24 2020-04-01   \n",
       "9  Control  262d77645124de79960ca588c8y6fa0f762422a3 2021-04-08 2021-03-22   \n",
       "\n",
       "  traffic_type   gametime  revenue  \n",
       "0         Paid   215886.0      0.0  \n",
       "1      Organic  1699057.0      0.0  \n",
       "2      Organic   360667.0      0.0  \n",
       "3         Paid   159227.0      0.0  \n",
       "4         Paid   846950.0      0.0  \n",
       "5      Organic   292904.0      0.0  \n",
       "6         Paid    30892.0      0.0  \n",
       "7         Paid   100394.0      0.0  \n",
       "8         Paid   402302.0      0.0  \n",
       "9      Organic    18568.0      0.0  "
      ]
     },
     "execution_count": 227,
     "metadata": {},
     "output_type": "execute_result"
    }
   ],
   "source": [
    "#Просмотр первых строк\n",
    "df.head(10)"
   ]
  },
  {
   "cell_type": "code",
   "execution_count": 230,
   "id": "165b21b1-2b9d-4e59-a359-de4ae644cfbd",
   "metadata": {},
   "outputs": [
    {
     "name": "stdout",
     "output_type": "stream",
     "text": [
      "<class 'pandas.core.frame.DataFrame'>\n",
      "RangeIndex: 703809 entries, 0 to 703808\n",
      "Data columns (total 7 columns):\n",
      " #   Column        Non-Null Count   Dtype         \n",
      "---  ------        --------------   -----         \n",
      " 0   Group         703809 non-null  object        \n",
      " 1   user_id       703809 non-null  object        \n",
      " 2   timestamp     703809 non-null  datetime64[ns]\n",
      " 3   regdate       703809 non-null  datetime64[ns]\n",
      " 4   traffic_type  703809 non-null  object        \n",
      " 5   gametime      696919 non-null  float64       \n",
      " 6   revenue       703809 non-null  float64       \n",
      "dtypes: datetime64[ns](2), float64(2), object(3)\n",
      "memory usage: 37.6+ MB\n"
     ]
    }
   ],
   "source": [
    "#Общая информация о данных\n",
    "df.info()"
   ]
  },
  {
   "cell_type": "code",
   "execution_count": 232,
   "id": "2df36af2-b3e6-4a58-add3-2c9c01af9752",
   "metadata": {},
   "outputs": [
    {
     "data": {
      "text/plain": [
       "Group              0\n",
       "user_id            0\n",
       "timestamp          0\n",
       "regdate            0\n",
       "traffic_type       0\n",
       "gametime        6890\n",
       "revenue            0\n",
       "dtype: int64"
      ]
     },
     "execution_count": 232,
     "metadata": {},
     "output_type": "execute_result"
    }
   ],
   "source": [
    "#Проверка на пропущенные значения\n",
    "df.isnull().sum()"
   ]
  },
  {
   "cell_type": "markdown",
   "id": "583f83a3-11f9-4d98-8101-e5d8fdfd6962",
   "metadata": {},
   "source": [
    "## 3️⃣ Предобработка данных"
   ]
  },
  {
   "cell_type": "markdown",
   "id": "c0460b47-243c-43e4-90ba-9352dc1a5818",
   "metadata": {},
   "source": [
    "**3.1 Удаление дубликатов**"
   ]
  },
  {
   "cell_type": "code",
   "execution_count": 236,
   "id": "fb363412-dbd5-4c4e-a918-516f168501a0",
   "metadata": {},
   "outputs": [
    {
     "data": {
      "text/plain": [
       "1"
      ]
     },
     "execution_count": 236,
     "metadata": {},
     "output_type": "execute_result"
    }
   ],
   "source": [
    "#Смотрим кол-во дубликатов\n",
    "df.duplicated().sum()\n"
   ]
  },
  {
   "cell_type": "code",
   "execution_count": 238,
   "id": "a698876c-8ed0-4ab1-9a4b-0ceaac7df978",
   "metadata": {},
   "outputs": [
    {
     "data": {
      "text/plain": [
       "703808"
      ]
     },
     "execution_count": 238,
     "metadata": {},
     "output_type": "execute_result"
    }
   ],
   "source": [
    "#Удаляем дубликат\n",
    "df = df.drop_duplicates()\n",
    "\n",
    "#Проверяем кол-во оставшихся строк\n",
    "len(df)"
   ]
  },
  {
   "cell_type": "markdown",
   "id": "8c268506-c2a7-4daf-bf43-f16530c3d15d",
   "metadata": {},
   "source": [
    "**3.2 Заполнение пропусков в столбце gametime**"
   ]
  },
  {
   "cell_type": "code",
   "execution_count": 241,
   "id": "f5692088-faaa-4d08-ace7-c6313ac66fd4",
   "metadata": {},
   "outputs": [
    {
     "data": {
      "text/plain": [
       "Group           0\n",
       "user_id         0\n",
       "timestamp       0\n",
       "regdate         0\n",
       "traffic_type    0\n",
       "gametime        0\n",
       "revenue         0\n",
       "dtype: int64"
      ]
     },
     "execution_count": 241,
     "metadata": {},
     "output_type": "execute_result"
    }
   ],
   "source": [
    "#Для заполнения пропусков используем медиану, чтобы не искажать распределение данных\n",
    "df['gametime'] = df['gametime'].fillna(df['gametime'].median())\n",
    "\n",
    "#Проверка на пропущенные значения\n",
    "df.isnull().sum()"
   ]
  },
  {
   "cell_type": "markdown",
   "id": "edb23784-9783-4e6a-a520-712ef76dfc35",
   "metadata": {},
   "source": [
    "**3.3 Проверка и удаление аномалий**"
   ]
  },
  {
   "cell_type": "code",
   "execution_count": 244,
   "id": "3fda9a0a-67a3-4ff4-b147-f458563167b6",
   "metadata": {},
   "outputs": [
    {
     "data": {
      "text/plain": [
       "701251"
      ]
     },
     "execution_count": 244,
     "metadata": {},
     "output_type": "execute_result"
    }
   ],
   "source": [
    "#Удаляем некорректные значения (отрицательный доход и игровое время)\n",
    "df = df[(df['revenue'] >= 0) & (df['gametime'] >= 0)]\n",
    "\n",
    "#Проверяем кол-во оставшихся строк\n",
    "len(df)"
   ]
  },
  {
   "cell_type": "markdown",
   "id": "64fde615-0bbf-4e70-a72f-31aabe8bb2f2",
   "metadata": {},
   "source": [
    "## 4️⃣ Разведочный анализ данных (EDA)\n",
    "**4.1. Проверка баланса групп**\n",
    "\n",
    "Перед анализом нужно убедиться, что группы сбалансированы:"
   ]
  },
  {
   "cell_type": "code",
   "execution_count": 247,
   "id": "a3bda964-0314-441b-aecc-bb4e0e68e6b3",
   "metadata": {},
   "outputs": [
    {
     "data": {
      "text/plain": [
       "Group\n",
       "Control    80.085875\n",
       "Test       19.914125\n",
       "Name: proportion, dtype: float64"
      ]
     },
     "execution_count": 247,
     "metadata": {},
     "output_type": "execute_result"
    }
   ],
   "source": [
    "#Если распределение очень неравномерное, результаты A/B-теста могут быть некорректными\n",
    "df['Group'].value_counts(normalize=True) * 100"
   ]
  },
  {
   "cell_type": "code",
   "execution_count": 249,
   "id": "4449014e-7cc5-4f9c-be03-432010dd733b",
   "metadata": {},
   "outputs": [
    {
     "data": {
      "text/html": [
       "<div>\n",
       "<style scoped>\n",
       "    .dataframe tbody tr th:only-of-type {\n",
       "        vertical-align: middle;\n",
       "    }\n",
       "\n",
       "    .dataframe tbody tr th {\n",
       "        vertical-align: top;\n",
       "    }\n",
       "\n",
       "    .dataframe thead tr th {\n",
       "        text-align: left;\n",
       "    }\n",
       "\n",
       "    .dataframe thead tr:last-of-type th {\n",
       "        text-align: right;\n",
       "    }\n",
       "</style>\n",
       "<table border=\"1\" class=\"dataframe\">\n",
       "  <thead>\n",
       "    <tr>\n",
       "      <th></th>\n",
       "      <th colspan=\"8\" halign=\"left\">gametime</th>\n",
       "      <th colspan=\"8\" halign=\"left\">revenue</th>\n",
       "    </tr>\n",
       "    <tr>\n",
       "      <th></th>\n",
       "      <th>count</th>\n",
       "      <th>mean</th>\n",
       "      <th>std</th>\n",
       "      <th>min</th>\n",
       "      <th>25%</th>\n",
       "      <th>50%</th>\n",
       "      <th>75%</th>\n",
       "      <th>max</th>\n",
       "      <th>count</th>\n",
       "      <th>mean</th>\n",
       "      <th>std</th>\n",
       "      <th>min</th>\n",
       "      <th>25%</th>\n",
       "      <th>50%</th>\n",
       "      <th>75%</th>\n",
       "      <th>max</th>\n",
       "    </tr>\n",
       "    <tr>\n",
       "      <th>Group</th>\n",
       "      <th></th>\n",
       "      <th></th>\n",
       "      <th></th>\n",
       "      <th></th>\n",
       "      <th></th>\n",
       "      <th></th>\n",
       "      <th></th>\n",
       "      <th></th>\n",
       "      <th></th>\n",
       "      <th></th>\n",
       "      <th></th>\n",
       "      <th></th>\n",
       "      <th></th>\n",
       "      <th></th>\n",
       "      <th></th>\n",
       "      <th></th>\n",
       "    </tr>\n",
       "  </thead>\n",
       "  <tbody>\n",
       "    <tr>\n",
       "      <th>Control</th>\n",
       "      <td>561603.0</td>\n",
       "      <td>6.352833e+06</td>\n",
       "      <td>9.356194e+07</td>\n",
       "      <td>6.0</td>\n",
       "      <td>34734.50</td>\n",
       "      <td>172959.0</td>\n",
       "      <td>502599.5</td>\n",
       "      <td>2.139124e+09</td>\n",
       "      <td>561603.0</td>\n",
       "      <td>0.137810</td>\n",
       "      <td>2.295041</td>\n",
       "      <td>0.0</td>\n",
       "      <td>0.0</td>\n",
       "      <td>0.0</td>\n",
       "      <td>0.0</td>\n",
       "      <td>790.427347</td>\n",
       "    </tr>\n",
       "    <tr>\n",
       "      <th>Test</th>\n",
       "      <td>139648.0</td>\n",
       "      <td>6.695861e+06</td>\n",
       "      <td>9.658437e+07</td>\n",
       "      <td>13.0</td>\n",
       "      <td>34812.75</td>\n",
       "      <td>172959.0</td>\n",
       "      <td>522078.5</td>\n",
       "      <td>2.138080e+09</td>\n",
       "      <td>139648.0</td>\n",
       "      <td>0.143555</td>\n",
       "      <td>3.120181</td>\n",
       "      <td>0.0</td>\n",
       "      <td>0.0</td>\n",
       "      <td>0.0</td>\n",
       "      <td>0.0</td>\n",
       "      <td>820.246603</td>\n",
       "    </tr>\n",
       "  </tbody>\n",
       "</table>\n",
       "</div>"
      ],
      "text/plain": [
       "         gametime                                                        \\\n",
       "            count          mean           std   min       25%       50%   \n",
       "Group                                                                     \n",
       "Control  561603.0  6.352833e+06  9.356194e+07   6.0  34734.50  172959.0   \n",
       "Test     139648.0  6.695861e+06  9.658437e+07  13.0  34812.75  172959.0   \n",
       "\n",
       "                                  revenue                                     \\\n",
       "              75%           max     count      mean       std  min  25%  50%   \n",
       "Group                                                                          \n",
       "Control  502599.5  2.139124e+09  561603.0  0.137810  2.295041  0.0  0.0  0.0   \n",
       "Test     522078.5  2.138080e+09  139648.0  0.143555  3.120181  0.0  0.0  0.0   \n",
       "\n",
       "                          \n",
       "         75%         max  \n",
       "Group                     \n",
       "Control  0.0  790.427347  \n",
       "Test     0.0  820.246603  "
      ]
     },
     "execution_count": 249,
     "metadata": {},
     "output_type": "execute_result"
    }
   ],
   "source": [
    "#Проверим как распределены данные в тестовой и контрольной группах\n",
    "df.groupby('Group')[['gametime', 'revenue']].describe()"
   ]
  },
  {
   "cell_type": "markdown",
   "id": "eb65ff1a-5a9f-42ed-b17a-38f465681566",
   "metadata": {},
   "source": [
    "⚠️ В идеале, для корректного проведения A/B теста группы должны быть примерно одинаковыми по размеру, чтобы результаты теста были достоверными. В данном случае контрольная группа значительно больше, чем тестовая, что может привести к искажению результатов, если не будет учтено при анализе.\n",
    "\n",
    "Поэтому необходимо сбалансировать группы. Используем для этого сэмплинг, чтобы обе группы имели более равное количество участников.\n",
    "\n",
    "**4.2 Выравнивание количества записей между группами**\n",
    "\n",
    "Чтобы контрольная и тестовая группы имели одинаковое количество строк, выберем случайную подвыборку из большей группы, чтобы она соответствовала размеру меньшей:"
   ]
  },
  {
   "cell_type": "code",
   "execution_count": 252,
   "id": "8413de00-c555-4479-8cc4-fc5c26661e92",
   "metadata": {},
   "outputs": [
    {
     "name": "stdout",
     "output_type": "stream",
     "text": [
      "Group\n",
      "Control    50.0\n",
      "Test       50.0\n",
      "Name: proportion, dtype: float64\n"
     ]
    }
   ],
   "source": [
    "# Делаем случайную выборку из обеих групп до минимального размера\n",
    "df_control_sampled = df_control.sample(n=min_size, random_state=42)\n",
    "df_test_sampled = df_test.sample(n=min_size, random_state=42)\n",
    "\n",
    "# Объединяем обратно в общий DataFrame\n",
    "df_balanced = pd.concat([df_control_sampled, df_test_sampled])\n",
    "\n",
    "# Проверяем баланс после сэмплинга\n",
    "print(df_balanced['Group'].value_counts(normalize=True) * 100)\n"
   ]
  },
  {
   "cell_type": "code",
   "execution_count": 254,
   "id": "3d8b605c-b528-4465-87f7-fb3a7319244f",
   "metadata": {},
   "outputs": [
    {
     "data": {
      "text/html": [
       "<div>\n",
       "<style scoped>\n",
       "    .dataframe tbody tr th:only-of-type {\n",
       "        vertical-align: middle;\n",
       "    }\n",
       "\n",
       "    .dataframe tbody tr th {\n",
       "        vertical-align: top;\n",
       "    }\n",
       "\n",
       "    .dataframe thead th {\n",
       "        text-align: right;\n",
       "    }\n",
       "</style>\n",
       "<table border=\"1\" class=\"dataframe\">\n",
       "  <thead>\n",
       "    <tr style=\"text-align: right;\">\n",
       "      <th></th>\n",
       "      <th>Group</th>\n",
       "      <th>user_id</th>\n",
       "      <th>timestamp</th>\n",
       "      <th>regdate</th>\n",
       "      <th>traffic_type</th>\n",
       "      <th>gametime</th>\n",
       "      <th>revenue</th>\n",
       "    </tr>\n",
       "  </thead>\n",
       "  <tbody>\n",
       "    <tr>\n",
       "      <th>639634</th>\n",
       "      <td>Control</td>\n",
       "      <td>e5d7y8ce5d132yy7cec3871167fy990cd7fyf5fy</td>\n",
       "      <td>2021-03-28</td>\n",
       "      <td>2020-01-17</td>\n",
       "      <td>Paid</td>\n",
       "      <td>1.121217e+06</td>\n",
       "      <td>0.0</td>\n",
       "    </tr>\n",
       "    <tr>\n",
       "      <th>77459</th>\n",
       "      <td>Control</td>\n",
       "      <td>2896f3259932630cca1947ded9ac5f5afdf1c9c5</td>\n",
       "      <td>2021-03-27</td>\n",
       "      <td>2020-08-26</td>\n",
       "      <td>Organic</td>\n",
       "      <td>2.937840e+05</td>\n",
       "      <td>0.0</td>\n",
       "    </tr>\n",
       "    <tr>\n",
       "      <th>561251</th>\n",
       "      <td>Control</td>\n",
       "      <td>7145ec43y08f9c83d5472205a3fc4797y108y144</td>\n",
       "      <td>2021-03-18</td>\n",
       "      <td>2020-04-27</td>\n",
       "      <td>Organic</td>\n",
       "      <td>9.333430e+05</td>\n",
       "      <td>0.0</td>\n",
       "    </tr>\n",
       "    <tr>\n",
       "      <th>441074</th>\n",
       "      <td>Control</td>\n",
       "      <td>09794fd782y07y61f831a8yd4c5cy5y4685480a3</td>\n",
       "      <td>2021-03-28</td>\n",
       "      <td>2020-12-29</td>\n",
       "      <td>Organic</td>\n",
       "      <td>2.442060e+05</td>\n",
       "      <td>0.0</td>\n",
       "    </tr>\n",
       "    <tr>\n",
       "      <th>295281</th>\n",
       "      <td>Control</td>\n",
       "      <td>1849a64yc1d24cd0c259902446f00140yyfd9c14</td>\n",
       "      <td>2021-04-05</td>\n",
       "      <td>2020-04-20</td>\n",
       "      <td>Organic</td>\n",
       "      <td>9.534670e+05</td>\n",
       "      <td>0.0</td>\n",
       "    </tr>\n",
       "    <tr>\n",
       "      <th>...</th>\n",
       "      <td>...</td>\n",
       "      <td>...</td>\n",
       "      <td>...</td>\n",
       "      <td>...</td>\n",
       "      <td>...</td>\n",
       "      <td>...</td>\n",
       "      <td>...</td>\n",
       "    </tr>\n",
       "    <tr>\n",
       "      <th>556422</th>\n",
       "      <td>Test</td>\n",
       "      <td>cyd5602e49f4a39d82ef28yef0c4a9f560639afd</td>\n",
       "      <td>2021-04-06</td>\n",
       "      <td>2020-07-19</td>\n",
       "      <td>Paid</td>\n",
       "      <td>1.094463e+09</td>\n",
       "      <td>0.0</td>\n",
       "    </tr>\n",
       "    <tr>\n",
       "      <th>604656</th>\n",
       "      <td>Test</td>\n",
       "      <td>d02d928yf6c39f9f7d7y52c5d604e324a6ad3d8a</td>\n",
       "      <td>2021-04-02</td>\n",
       "      <td>2020-03-30</td>\n",
       "      <td>Paid</td>\n",
       "      <td>2.923226e+08</td>\n",
       "      <td>0.0</td>\n",
       "    </tr>\n",
       "    <tr>\n",
       "      <th>522735</th>\n",
       "      <td>Test</td>\n",
       "      <td>54yf5523y5681052c260a10618497cyyy44y4faf</td>\n",
       "      <td>2021-04-01</td>\n",
       "      <td>2021-03-28</td>\n",
       "      <td>Paid</td>\n",
       "      <td>5.230000e+03</td>\n",
       "      <td>0.0</td>\n",
       "    </tr>\n",
       "    <tr>\n",
       "      <th>664204</th>\n",
       "      <td>Test</td>\n",
       "      <td>6847ce6d58fdcc9f8aa7a6y09a52y01cfffd3y26</td>\n",
       "      <td>2021-03-20</td>\n",
       "      <td>2021-03-14</td>\n",
       "      <td>Paid</td>\n",
       "      <td>2.147500e+04</td>\n",
       "      <td>0.0</td>\n",
       "    </tr>\n",
       "    <tr>\n",
       "      <th>615099</th>\n",
       "      <td>Test</td>\n",
       "      <td>4f3ee0d8a393dc3d2afye787e9a77d76d3447c11</td>\n",
       "      <td>2021-04-06</td>\n",
       "      <td>2020-01-05</td>\n",
       "      <td>Organic</td>\n",
       "      <td>2.008900e+05</td>\n",
       "      <td>0.0</td>\n",
       "    </tr>\n",
       "  </tbody>\n",
       "</table>\n",
       "<p>279296 rows × 7 columns</p>\n",
       "</div>"
      ],
      "text/plain": [
       "          Group                                   user_id  timestamp  \\\n",
       "639634  Control  e5d7y8ce5d132yy7cec3871167fy990cd7fyf5fy 2021-03-28   \n",
       "77459   Control  2896f3259932630cca1947ded9ac5f5afdf1c9c5 2021-03-27   \n",
       "561251  Control  7145ec43y08f9c83d5472205a3fc4797y108y144 2021-03-18   \n",
       "441074  Control  09794fd782y07y61f831a8yd4c5cy5y4685480a3 2021-03-28   \n",
       "295281  Control  1849a64yc1d24cd0c259902446f00140yyfd9c14 2021-04-05   \n",
       "...         ...                                       ...        ...   \n",
       "556422     Test  cyd5602e49f4a39d82ef28yef0c4a9f560639afd 2021-04-06   \n",
       "604656     Test  d02d928yf6c39f9f7d7y52c5d604e324a6ad3d8a 2021-04-02   \n",
       "522735     Test  54yf5523y5681052c260a10618497cyyy44y4faf 2021-04-01   \n",
       "664204     Test  6847ce6d58fdcc9f8aa7a6y09a52y01cfffd3y26 2021-03-20   \n",
       "615099     Test  4f3ee0d8a393dc3d2afye787e9a77d76d3447c11 2021-04-06   \n",
       "\n",
       "          regdate traffic_type      gametime  revenue  \n",
       "639634 2020-01-17         Paid  1.121217e+06      0.0  \n",
       "77459  2020-08-26      Organic  2.937840e+05      0.0  \n",
       "561251 2020-04-27      Organic  9.333430e+05      0.0  \n",
       "441074 2020-12-29      Organic  2.442060e+05      0.0  \n",
       "295281 2020-04-20      Organic  9.534670e+05      0.0  \n",
       "...           ...          ...           ...      ...  \n",
       "556422 2020-07-19         Paid  1.094463e+09      0.0  \n",
       "604656 2020-03-30         Paid  2.923226e+08      0.0  \n",
       "522735 2021-03-28         Paid  5.230000e+03      0.0  \n",
       "664204 2021-03-14         Paid  2.147500e+04      0.0  \n",
       "615099 2020-01-05      Organic  2.008900e+05      0.0  \n",
       "\n",
       "[279296 rows x 7 columns]"
      ]
     },
     "execution_count": 254,
     "metadata": {},
     "output_type": "execute_result"
    }
   ],
   "source": [
    "df_balanced"
   ]
  },
  {
   "cell_type": "code",
   "execution_count": 256,
   "id": "a42ef69e-72bf-4b4e-b515-1c4095a90c0e",
   "metadata": {},
   "outputs": [
    {
     "data": {
      "text/html": [
       "<div>\n",
       "<style scoped>\n",
       "    .dataframe tbody tr th:only-of-type {\n",
       "        vertical-align: middle;\n",
       "    }\n",
       "\n",
       "    .dataframe tbody tr th {\n",
       "        vertical-align: top;\n",
       "    }\n",
       "\n",
       "    .dataframe thead tr th {\n",
       "        text-align: left;\n",
       "    }\n",
       "\n",
       "    .dataframe thead tr:last-of-type th {\n",
       "        text-align: right;\n",
       "    }\n",
       "</style>\n",
       "<table border=\"1\" class=\"dataframe\">\n",
       "  <thead>\n",
       "    <tr>\n",
       "      <th></th>\n",
       "      <th colspan=\"8\" halign=\"left\">gametime</th>\n",
       "      <th colspan=\"8\" halign=\"left\">revenue</th>\n",
       "    </tr>\n",
       "    <tr>\n",
       "      <th></th>\n",
       "      <th>count</th>\n",
       "      <th>mean</th>\n",
       "      <th>std</th>\n",
       "      <th>min</th>\n",
       "      <th>25%</th>\n",
       "      <th>50%</th>\n",
       "      <th>75%</th>\n",
       "      <th>max</th>\n",
       "      <th>count</th>\n",
       "      <th>mean</th>\n",
       "      <th>std</th>\n",
       "      <th>min</th>\n",
       "      <th>25%</th>\n",
       "      <th>50%</th>\n",
       "      <th>75%</th>\n",
       "      <th>max</th>\n",
       "    </tr>\n",
       "    <tr>\n",
       "      <th>Group</th>\n",
       "      <th></th>\n",
       "      <th></th>\n",
       "      <th></th>\n",
       "      <th></th>\n",
       "      <th></th>\n",
       "      <th></th>\n",
       "      <th></th>\n",
       "      <th></th>\n",
       "      <th></th>\n",
       "      <th></th>\n",
       "      <th></th>\n",
       "      <th></th>\n",
       "      <th></th>\n",
       "      <th></th>\n",
       "      <th></th>\n",
       "      <th></th>\n",
       "    </tr>\n",
       "  </thead>\n",
       "  <tbody>\n",
       "    <tr>\n",
       "      <th>Control</th>\n",
       "      <td>139648.0</td>\n",
       "      <td>6.630572e+06</td>\n",
       "      <td>9.550834e+07</td>\n",
       "      <td>10.0</td>\n",
       "      <td>34940.50</td>\n",
       "      <td>172959.0</td>\n",
       "      <td>500509.25</td>\n",
       "      <td>2.138409e+09</td>\n",
       "      <td>139648.0</td>\n",
       "      <td>0.143961</td>\n",
       "      <td>2.061780</td>\n",
       "      <td>0.0</td>\n",
       "      <td>0.0</td>\n",
       "      <td>0.0</td>\n",
       "      <td>0.0</td>\n",
       "      <td>207.619039</td>\n",
       "    </tr>\n",
       "    <tr>\n",
       "      <th>Test</th>\n",
       "      <td>139648.0</td>\n",
       "      <td>6.695861e+06</td>\n",
       "      <td>9.658437e+07</td>\n",
       "      <td>13.0</td>\n",
       "      <td>34812.75</td>\n",
       "      <td>172959.0</td>\n",
       "      <td>522078.50</td>\n",
       "      <td>2.138080e+09</td>\n",
       "      <td>139648.0</td>\n",
       "      <td>0.143555</td>\n",
       "      <td>3.120181</td>\n",
       "      <td>0.0</td>\n",
       "      <td>0.0</td>\n",
       "      <td>0.0</td>\n",
       "      <td>0.0</td>\n",
       "      <td>820.246603</td>\n",
       "    </tr>\n",
       "  </tbody>\n",
       "</table>\n",
       "</div>"
      ],
      "text/plain": [
       "         gametime                                                        \\\n",
       "            count          mean           std   min       25%       50%   \n",
       "Group                                                                     \n",
       "Control  139648.0  6.630572e+06  9.550834e+07  10.0  34940.50  172959.0   \n",
       "Test     139648.0  6.695861e+06  9.658437e+07  13.0  34812.75  172959.0   \n",
       "\n",
       "                                   revenue                                     \\\n",
       "               75%           max     count      mean       std  min  25%  50%   \n",
       "Group                                                                           \n",
       "Control  500509.25  2.138409e+09  139648.0  0.143961  2.061780  0.0  0.0  0.0   \n",
       "Test     522078.50  2.138080e+09  139648.0  0.143555  3.120181  0.0  0.0  0.0   \n",
       "\n",
       "                          \n",
       "         75%         max  \n",
       "Group                     \n",
       "Control  0.0  207.619039  \n",
       "Test     0.0  820.246603  "
      ]
     },
     "execution_count": 256,
     "metadata": {},
     "output_type": "execute_result"
    }
   ],
   "source": [
    "#Проверим как распределены данные в тестовой и контрольной группах в сбалансированном датасете\n",
    "df_balanced.groupby('Group')[['gametime', 'revenue']].describe()"
   ]
  },
  {
   "cell_type": "code",
   "execution_count": 302,
   "id": "7e0d20cc-ea00-47ff-bb5d-79a34ac97d82",
   "metadata": {},
   "outputs": [
    {
     "data": {
      "text/html": [
       "<div>\n",
       "<style scoped>\n",
       "    .dataframe tbody tr th:only-of-type {\n",
       "        vertical-align: middle;\n",
       "    }\n",
       "\n",
       "    .dataframe tbody tr th {\n",
       "        vertical-align: top;\n",
       "    }\n",
       "\n",
       "    .dataframe thead th {\n",
       "        text-align: right;\n",
       "    }\n",
       "</style>\n",
       "<table border=\"1\" class=\"dataframe\">\n",
       "  <thead>\n",
       "    <tr style=\"text-align: right;\">\n",
       "      <th></th>\n",
       "      <th>gametime</th>\n",
       "    </tr>\n",
       "    <tr>\n",
       "      <th>Group</th>\n",
       "      <th></th>\n",
       "    </tr>\n",
       "  </thead>\n",
       "  <tbody>\n",
       "    <tr>\n",
       "      <th>Control</th>\n",
       "      <td>6.630572e+06</td>\n",
       "    </tr>\n",
       "    <tr>\n",
       "      <th>Test</th>\n",
       "      <td>6.695861e+06</td>\n",
       "    </tr>\n",
       "  </tbody>\n",
       "</table>\n",
       "</div>"
      ],
      "text/plain": [
       "             gametime\n",
       "Group                \n",
       "Control  6.630572e+06\n",
       "Test     6.695861e+06"
      ]
     },
     "execution_count": 302,
     "metadata": {},
     "output_type": "execute_result"
    }
   ],
   "source": [
    "#Проверим и сравним средние показали по revenue и gametime между первоначальным датасетом (df) и новым (df_balanced)\n",
    "\n",
    "#Среднее время в игре (сбалансированный датасет)\n",
    "df_balanced.groupby(['Group'])\\\n",
    "           .agg({'gametime':'mean'})"
   ]
  },
  {
   "cell_type": "code",
   "execution_count": 306,
   "id": "b3e57410-da9b-4ce1-812c-a86485ca6665",
   "metadata": {},
   "outputs": [
    {
     "data": {
      "text/html": [
       "<div>\n",
       "<style scoped>\n",
       "    .dataframe tbody tr th:only-of-type {\n",
       "        vertical-align: middle;\n",
       "    }\n",
       "\n",
       "    .dataframe tbody tr th {\n",
       "        vertical-align: top;\n",
       "    }\n",
       "\n",
       "    .dataframe thead th {\n",
       "        text-align: right;\n",
       "    }\n",
       "</style>\n",
       "<table border=\"1\" class=\"dataframe\">\n",
       "  <thead>\n",
       "    <tr style=\"text-align: right;\">\n",
       "      <th></th>\n",
       "      <th>gametime</th>\n",
       "    </tr>\n",
       "    <tr>\n",
       "      <th>Group</th>\n",
       "      <th></th>\n",
       "    </tr>\n",
       "  </thead>\n",
       "  <tbody>\n",
       "    <tr>\n",
       "      <th>Control</th>\n",
       "      <td>6.352833e+06</td>\n",
       "    </tr>\n",
       "    <tr>\n",
       "      <th>Test</th>\n",
       "      <td>6.695861e+06</td>\n",
       "    </tr>\n",
       "  </tbody>\n",
       "</table>\n",
       "</div>"
      ],
      "text/plain": [
       "             gametime\n",
       "Group                \n",
       "Control  6.352833e+06\n",
       "Test     6.695861e+06"
      ]
     },
     "execution_count": 306,
     "metadata": {},
     "output_type": "execute_result"
    }
   ],
   "source": [
    "#Среднее время в игре (первоначальный датасет)\n",
    "df.groupby(['Group'])\\\n",
    "           .agg({'gametime':'mean'})"
   ]
  },
  {
   "cell_type": "code",
   "execution_count": 308,
   "id": "3b3a410a-eb32-4ae1-b1b0-ed772d653c9b",
   "metadata": {},
   "outputs": [
    {
     "data": {
      "text/html": [
       "<div>\n",
       "<style scoped>\n",
       "    .dataframe tbody tr th:only-of-type {\n",
       "        vertical-align: middle;\n",
       "    }\n",
       "\n",
       "    .dataframe tbody tr th {\n",
       "        vertical-align: top;\n",
       "    }\n",
       "\n",
       "    .dataframe thead th {\n",
       "        text-align: right;\n",
       "    }\n",
       "</style>\n",
       "<table border=\"1\" class=\"dataframe\">\n",
       "  <thead>\n",
       "    <tr style=\"text-align: right;\">\n",
       "      <th></th>\n",
       "      <th>revenue</th>\n",
       "    </tr>\n",
       "    <tr>\n",
       "      <th>Group</th>\n",
       "      <th></th>\n",
       "    </tr>\n",
       "  </thead>\n",
       "  <tbody>\n",
       "    <tr>\n",
       "      <th>Control</th>\n",
       "      <td>0.143961</td>\n",
       "    </tr>\n",
       "    <tr>\n",
       "      <th>Test</th>\n",
       "      <td>0.143555</td>\n",
       "    </tr>\n",
       "  </tbody>\n",
       "</table>\n",
       "</div>"
      ],
      "text/plain": [
       "          revenue\n",
       "Group            \n",
       "Control  0.143961\n",
       "Test     0.143555"
      ]
     },
     "execution_count": 308,
     "metadata": {},
     "output_type": "execute_result"
    }
   ],
   "source": [
    "#Средний доход (сбалансированный датасет)\n",
    "df_balanced.groupby(['Group'])\\\n",
    "           .agg({'revenue':'mean'})"
   ]
  },
  {
   "cell_type": "code",
   "execution_count": 310,
   "id": "0847c8fb-a4df-4025-bfea-87cd53e27896",
   "metadata": {},
   "outputs": [
    {
     "data": {
      "text/html": [
       "<div>\n",
       "<style scoped>\n",
       "    .dataframe tbody tr th:only-of-type {\n",
       "        vertical-align: middle;\n",
       "    }\n",
       "\n",
       "    .dataframe tbody tr th {\n",
       "        vertical-align: top;\n",
       "    }\n",
       "\n",
       "    .dataframe thead th {\n",
       "        text-align: right;\n",
       "    }\n",
       "</style>\n",
       "<table border=\"1\" class=\"dataframe\">\n",
       "  <thead>\n",
       "    <tr style=\"text-align: right;\">\n",
       "      <th></th>\n",
       "      <th>revenue</th>\n",
       "    </tr>\n",
       "    <tr>\n",
       "      <th>Group</th>\n",
       "      <th></th>\n",
       "    </tr>\n",
       "  </thead>\n",
       "  <tbody>\n",
       "    <tr>\n",
       "      <th>Control</th>\n",
       "      <td>0.137810</td>\n",
       "    </tr>\n",
       "    <tr>\n",
       "      <th>Test</th>\n",
       "      <td>0.143555</td>\n",
       "    </tr>\n",
       "  </tbody>\n",
       "</table>\n",
       "</div>"
      ],
      "text/plain": [
       "          revenue\n",
       "Group            \n",
       "Control  0.137810\n",
       "Test     0.143555"
      ]
     },
     "execution_count": 310,
     "metadata": {},
     "output_type": "execute_result"
    }
   ],
   "source": [
    "#Средний доход (первоначальный датасет)\n",
    "df.groupby(['Group'])\\\n",
    "           .agg({'revenue':'mean'})"
   ]
  },
  {
   "cell_type": "markdown",
   "id": "79475ac7-cef0-478b-86b2-c1ed670fdb55",
   "metadata": {},
   "source": [
    "**Вывод:** не смотря на то, что первоначальный датасет был сбалансирован и кол-во данных по контрольной группе уменьшено - это не повлияло на средние величины метрик."
   ]
  },
  {
   "cell_type": "markdown",
   "id": "a2de4f04-cc97-440f-a90d-13760b7f25ea",
   "metadata": {},
   "source": [
    "## 5️⃣ Статистический анализ тестовой и контрольной группы"
   ]
  },
  {
   "cell_type": "code",
   "execution_count": 261,
   "id": "99719206-5e11-4dab-a696-36949ebe8dfc",
   "metadata": {},
   "outputs": [
    {
     "name": "stdout",
     "output_type": "stream",
     "text": [
      "          revenue\n",
      "Group            \n",
      "Control  20103.83\n",
      "Test     20047.18\n"
     ]
    }
   ],
   "source": [
    "#Посчитаем и отобразим на графике выручку по группам\n",
    "total_revenue = df_balanced.groupby(['Group'])\\\n",
    "           .agg({'revenue':'sum'}).round(2)\n",
    "print(total_revenue)"
   ]
  },
  {
   "cell_type": "code",
   "execution_count": 265,
   "id": "7a52e0e7-5799-4565-85ce-4f11f8c135ab",
   "metadata": {},
   "outputs": [
    {
     "data": {
      "text/plain": [
       "<Axes: xlabel='Group', ylabel='revenue'>"
      ]
     },
     "execution_count": 265,
     "metadata": {},
     "output_type": "execute_result"
    },
    {
     "data": {
      "image/png": "[encoded data removed]",
      "text/plain": [
       "<Figure size 640x480 with 1 Axes>"
      ]
     },
     "metadata": {},
     "output_type": "display_data"
    }
   ],
   "source": [
    "sns.barplot(x = 'Group', y = 'revenue', data = total_revenue, saturation = 0.5)"
   ]
  },
  {
   "cell_type": "markdown",
   "id": "680c7bbc-8fd6-4af8-8916-0850e8ba53ec",
   "metadata": {},
   "source": [
    "**Вывод:**\n",
    "доход (revenue) в тестовой (Test) и контрольной (Control) группах практически одинаков: разница всего 56.65 – это менее 0.3%, что можно считать незначительным изменением."
   ]
  },
  {
   "cell_type": "code",
   "execution_count": 276,
   "id": "82a27821-1b89-46b2-b140-bf6753c2d07a",
   "metadata": {},
   "outputs": [
    {
     "name": "stdout",
     "output_type": "stream",
     "text": [
      "             gametime\n",
      "Group                \n",
      "Control  9.259462e+11\n",
      "Test     9.350636e+11\n"
     ]
    }
   ],
   "source": [
    "#Посчитаем и отобразим на графике общее время, проведенное в игре по группам\n",
    "\n",
    "total_gametime = df_balanced.groupby(['Group'])\\\n",
    "           .agg({'gametime':'sum'}).round(2)\n",
    "print(total_gametime)"
   ]
  },
  {
   "cell_type": "code",
   "execution_count": 278,
   "id": "ffb775d0-844f-43a6-85fd-70587eb2ac2c",
   "metadata": {},
   "outputs": [
    {
     "data": {
      "text/plain": [
       "<Axes: xlabel='Group', ylabel='gametime'>"
      ]
     },
     "execution_count": 278,
     "metadata": {},
     "output_type": "execute_result"
    },
    {
     "data": {
      "image/png": "[encoded data removed]",
      "text/plain": [
       "<Figure size 640x480 with 1 Axes>"
      ]
     },
     "metadata": {},
     "output_type": "display_data"
    }
   ],
   "source": [
    "sns.barplot(x = 'Group', y = 'gametime', data = total_gametime, saturation = 0.5)"
   ]
  },
  {
   "cell_type": "markdown",
   "id": "8cb0ba29-243b-4019-a96d-4d3cf3ca4090",
   "metadata": {},
   "source": [
    "**Вывод:** разница небольшая – нужно проверить статистическую значимость."
   ]
  },
  {
   "cell_type": "markdown",
   "id": "bf520cc6-d05f-4bf3-8571-2296901c5a6e",
   "metadata": {},
   "source": [
    "## 6️⃣ Проверка нормальности распределения\n",
    "\n",
    "***Проведем тест Шапиро-Уилка на нормальность для gametime в контрольной группе.***"
   ]
  },
  {
   "cell_type": "code",
   "execution_count": 328,
   "id": "19805063-e895-43c5-84f1-3d568861b0c9",
   "metadata": {},
   "outputs": [
    {
     "data": {
      "text/plain": [
       "ShapiroResult(statistic=0.038262231595894924, pvalue=6.248864242096753e-95)"
      ]
     },
     "execution_count": 328,
     "metadata": {},
     "output_type": "execute_result"
    }
   ],
   "source": [
    "stats.shapiro(df_balanced[df_balanced[\"Group\"] == \"Control\"][\"gametime\"].sample(5000, random_state=42)) \n"
   ]
  },
  {
   "cell_type": "markdown",
   "id": "57200a04-749f-42a7-bbc3-0b509aed0d24",
   "metadata": {},
   "source": [
    "### 📊 Разбор результата:\n",
    "\n",
    "1️⃣ **statistic** = 0.038 - это коэффициент Шапиро-Уилка. Если он близок к 1, то данные похожи на нормальные.\n",
    "\n",
    "У нас 0.038, что очень далеко от 1 → вероятно, распределение сильно отличается от нормального.\n",
    "\n",
    "2️⃣ **p-value** = 6.25 × 10⁻⁹⁵ \n",
    "\n",
    "У нас p-value ≈ 0 → мы отвергаем гипотезу нормальности.\n",
    "\n",
    "📌 Вывод:\n",
    "gametime в контрольной группе НЕ распределен нормально!\n",
    "\n",
    "**Необходимо использовать непараметрический тест.**\n"
   ]
  },
  {
   "cell_type": "markdown",
   "id": "fa2bf948-152c-476f-ae25-431480a7dc99",
   "metadata": {},
   "source": [
    "***Проведем тест Шапиро-Уилка на нормальность для gametime в тестовой группе.***"
   ]
  },
  {
   "cell_type": "code",
   "execution_count": 336,
   "id": "eb8e25b4-1090-4342-8bc5-c77f097d3dd8",
   "metadata": {},
   "outputs": [
    {
     "data": {
      "text/plain": [
       "ShapiroResult(statistic=0.039436589141827016, pvalue=6.677294448037204e-95)"
      ]
     },
     "execution_count": 336,
     "metadata": {},
     "output_type": "execute_result"
    }
   ],
   "source": [
    "stats.shapiro(df_balanced[df_balanced[\"Group\"] == \"Test\"][\"gametime\"].sample(5000, random_state=42)) \n"
   ]
  },
  {
   "cell_type": "markdown",
   "id": "19f52bb4-c56f-4f69-94b6-d87ab622aa0b",
   "metadata": {},
   "source": [
    "📌 Вывод: gametime в тестовой группе НЕ распределен нормально!\n",
    "\n",
    "**Необходимо использовать непараметрический тест.**"
   ]
  },
  {
   "cell_type": "markdown",
   "id": "ea391204-b675-4a8b-93c4-0a4482dbd190",
   "metadata": {},
   "source": [
    "## 7️⃣ Статистический тест: проверяем разницу между группами\n",
    "\n",
    "Если данные не нормальны, используем критерий Манна-Уитни:"
   ]
  },
  {
   "cell_type": "code",
   "execution_count": 147,
   "id": "8eb94506-0cfc-48f9-98f5-af7e27e25b05",
   "metadata": {},
   "outputs": [
    {
     "name": "stdout",
     "output_type": "stream",
     "text": [
      "U-статистика: 9781480968.5, p-value: 0.14960019665594124\n",
      "Разницы нет, тестируемое изменение не оказало эффекта. 😕\n"
     ]
    }
   ],
   "source": [
    "stat, p = stats.mannwhitneyu(df_balanced[df_balanced[\"Group\"] == \"Test\"][\"gametime\"], \n",
    "                             df_balanced[df_balanced[\"Group\"] == \"Control\"][\"gametime\"], \n",
    "                             alternative='two-sided')\n",
    "\n",
    "print(f\"U-статистика: {stat}, p-value: {p}\")\n",
    "\n",
    "\n",
    "\n",
    "if p < 0.05:\n",
    "    print(\"Разница между группами статистически значима! 🎉\")\n",
    "else:\n",
    "    print(\"Разницы нет, тестируемое изменение не оказало эффекта. 😕\")\n"
   ]
  },
  {
   "cell_type": "code",
   "execution_count": 149,
   "id": "757a0338-8f24-4b1d-a6a6-988992bbad48",
   "metadata": {},
   "outputs": [
    {
     "name": "stdout",
     "output_type": "stream",
     "text": [
      "U-статистика: 9743944630.5, p-value: 0.060767823093768145\n",
      "Разницы нет, тестируемое изменение не оказало эффекта. 😕\n"
     ]
    }
   ],
   "source": [
    "stat, p = stats.mannwhitneyu(df_balanced[df_balanced[\"Group\"] == \"Test\"][\"revenue\"], \n",
    "                             df_balanced[df_balanced[\"Group\"] == \"Control\"][\"revenue\"], \n",
    "                             alternative='two-sided')\n",
    "\n",
    "print(f\"U-статистика: {stat}, p-value: {p}\")\n",
    "\n",
    "if p < 0.05:\n",
    "    print(\"Разница между группами статистически значима! 🎉\")\n",
    "else:\n",
    "    print(\"Разницы нет, тестируемое изменение не оказало эффекта. 😕\")"
   ]
  },
  {
   "cell_type": "markdown",
   "id": "7cf98745-af51-4deb-8b19-7055e1ffddd9",
   "metadata": {},
   "source": [
    "## 📊 Вывод по A/B-тесту (gametime и revenue)\n",
    "Мы провели тест Манна-Уитни для двух метрик: время игры (gametime) и доход (revenue)\n",
    "\n",
    "📌 Результат:\n",
    "\n",
    "✅ Разницы нет → тестируемое изменение НЕ оказало статистически значимого эффекта ни на gametime, ни на revenue.\n",
    "\n"
   ]
  },
  {
   "cell_type": "markdown",
   "id": "34ef2338-9ee6-4f0a-a7a0-04ed5eb4e63a",
   "metadata": {},
   "source": [
    "### 🔍 Что это значит?\n",
    "1️⃣ Изменение не повлияло на ключевые метрики. \n",
    "- Пользователи играли примерно столько же, сколько и раньше.\n",
    "- Доход также остался на прежнем уровне.\n",
    "- Разница между группами могла быть случайной флуктуацией.\n",
    "\n",
    "2️⃣ Гипотеза об улучшении gametime и revenue не подтвердилась.\n",
    "\n",
    "Возможно, изменение не имеет значимого влияния на поведение пользователей.\n",
    "\n",
    "3️⃣ Возможные причины отсутствия эффекта:\n",
    "- Не то изменение → пользователи просто не реагируют на тестируемый фактор.\n",
    "- Другие внешние факторы → например, сезонность или маркетинговые кампании могли повлиять на поведение.\n",
    "- Высокая вариативность revenue → доход может сильно колебаться из-за редких, но крупных покупок, и тест Манна-Уитни может их не учитывать."
   ]
  },
  {
   "cell_type": "code",
   "execution_count": null,
   "id": "4168bab9-2cd3-4246-b893-5b2a94553761",
   "metadata": {},
   "outputs": [],
   "source": []
  }
 ],
 "metadata": {
  "kernelspec": {
   "display_name": "Python [conda env:base] *",
   "language": "python",
   "name": "conda-base-py"
  },
  "language_info": {
   "codemirror_mode": {
    "name": "ipython",
    "version": 3
   },
   "file_extension": ".py",
   "mimetype": "text/x-python",
   "name": "python",
   "nbconvert_exporter": "python",
   "pygments_lexer": "ipython3",
   "version": "3.12.7"
  }
 },
 "nbformat": 4,
 "nbformat_minor": 5
}
